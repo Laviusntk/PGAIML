{
 "cells": [
  {
   "cell_type": "code",
   "execution_count": null,
   "id": "95a5cd0b",
   "metadata": {},
   "outputs": [],
   "source": [
    "import PIL\n",
    "import cv2\n",
    "\n",
    "import matplotlib.pyplot as plt\n",
    "\n",
    "from PIL import Image\n",
    "from google.colab.patches import cv2_imshow"
   ]
  },
  {
   "cell_type": "markdown",
   "id": "ddca0a9b",
   "metadata": {},
   "source": [
    "# Working with Pixels"
   ]
  },
  {
   "cell_type": "code",
   "execution_count": null,
   "id": "1a231ef8",
   "metadata": {},
   "outputs": [],
   "source": [
    "imageFilePath = \"./skate.jpg\"\n",
    "image = Image.open(imageFilePath)\n",
    "image"
   ]
  },
  {
   "cell_type": "code",
   "execution_count": null,
   "id": "1b8de8bf",
   "metadata": {},
   "outputs": [],
   "source": [
    "width, height = image.size\n",
    "image.size"
   ]
  },
  {
   "cell_type": "code",
   "execution_count": null,
   "id": "f2acef0d",
   "metadata": {},
   "outputs": [],
   "source": [
    "def ConvertToGrayScale(img, weights=[0.2, 0.5, 0.1]):\n",
    "    image_ = img.copy()\n",
    "    width, height = img.copy().size\n",
    "    image_pixel_matrix = image_.load()\n",
    "    for i in range(width):\n",
    "        for j in range(height):\n",
    "            red, green, blue = image.getpixel((i, j))\n",
    "            gray_scale = int((\n",
    "                weights[0]*red+\n",
    "                weights[1]*green+\n",
    "                weights[2]*blue)/3)\n",
    "            image_pixel_matrix[i, j]= (gray_scale, gray_scale, gray_scale)\n",
    "    return image_\n",
    "        \n",
    "ConvertToGrayScale(image)"
   ]
  },
  {
   "cell_type": "code",
   "execution_count": null,
   "id": "09a39159",
   "metadata": {},
   "outputs": [],
   "source": [
    "fig, axes = plt.subplots(1, 3, figsize=(16, 6))\n",
    "axes[0].imshow(image.getchannel('R'), cmap=\"Reds\")\n",
    "axes[1].imshow(image.getchannel('G'), cmap=\"Greens\")\n",
    "axes[2].imshow(image.getchannel('B'), cmap=\"Blues\")\n",
    "plt.show()"
   ]
  },
  {
   "cell_type": "markdown",
   "id": "a799ef20",
   "metadata": {},
   "source": [
    "# Brightness"
   ]
  },
  {
   "cell_type": "code",
   "execution_count": null,
   "id": "e82ce019",
   "metadata": {},
   "outputs": [],
   "source": [
    "cv2Image = cv2.imread(imageFilePath)\n",
    "cv2Image"
   ]
  },
  {
   "cell_type": "code",
   "execution_count": null,
   "id": "eec46d0c",
   "metadata": {},
   "outputs": [],
   "source": []
  }
 ],
 "metadata": {
  "kernelspec": {
   "display_name": "Python 3 (ipykernel)",
   "language": "python",
   "name": "python3"
  },
  "language_info": {
   "codemirror_mode": {
    "name": "ipython",
    "version": 3
   },
   "file_extension": ".py",
   "mimetype": "text/x-python",
   "name": "python",
   "nbconvert_exporter": "python",
   "pygments_lexer": "ipython3",
   "version": "3.10.4"
  }
 },
 "nbformat": 4,
 "nbformat_minor": 5
}
